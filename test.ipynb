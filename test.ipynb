{
 "cells": [
  {
   "cell_type": "code",
   "execution_count": null,
   "metadata": {},
   "outputs": [],
   "source": [
    "from data_resolvers.mongo_db_connection import MongoDBConnection\n",
    "from bson.objectid import ObjectId\n",
    "from data_resolvers.ciselniky_data_resolver import CiselnikyDataResolver\n",
    "from data_resolvers.ciselnikyDetail_data_resolver import CiselnikyDetailDataResolver\n",
    "from data_resolvers.nezrovnalost_data_resolver import NezrovnalostDataResolver\n",
    "from data_resolvers.nezrovnalostDetail_data_resolver import NezrovnalostDetailDataResolver"
   ]
  },
  {
   "cell_type": "code",
   "execution_count": null,
   "metadata": {},
   "outputs": [],
   "source": [
    "connection = MongoDBConnection('./appsettings.json')\n",
    "client = connection.client"
   ]
  },
  {
   "cell_type": "code",
   "execution_count": null,
   "metadata": {},
   "outputs": [],
   "source": [
    "client.list_database_names()\n",
    "itms_db_name = 'itmsDB'\n",
    "itmsDB = client.get_database(itms_db_name)\n",
    "ciselniky_col_name = 'ciselniky'\n",
    "ciselnikyDetail_col_name = 'ciselnikyDetail'\n",
    "nezrovnalost_col_name = 'nezrovnalosti'\n",
    "nezrovnalostDetail_col_name = 'nezrovnalostiDetail'"
   ]
  },
  {
   "cell_type": "code",
   "execution_count": null,
   "metadata": {},
   "outputs": [],
   "source": [
    "# ciselniky_data_res = CiselnikyDataResolver(connection, itms_db_name, 'ciselniky')\n",
    "# ciselniky_data_res.fetch_remote_data()\n",
    "\n",
    "# ciselnikyDetail_data_res = CiselnikyDetailDataResolver(\n",
    "#     connection, \n",
    "#     itms_db_name,\n",
    "#     ciselniky_col_name,\n",
    "#     ciselnikyDetail_col_name)\n",
    "# await ciselnikyDetail_data_res.fetch_remote_data_async()\n",
    "\n",
    "# nezrovnalost_data_res = NezrovnalostDataResolver(connection, itms_db_name, nezrovnalost_col_name)\n",
    "# nezrovnalost_data_res.fetch_remote_data()\n",
    "\n",
    "nezrovnalostDetail_data_res = NezrovnalostDetailDataResolver(\n",
    "    connection, \n",
    "    itms_db_name,\n",
    "    nezrovnalost_col_name,\n",
    "    nezrovnalostDetail_col_name)\n",
    "remote_data = await nezrovnalostDetail_data_res.fetch_remote_data_async()"
   ]
  },
  {
   "cell_type": "code",
   "execution_count": null,
   "metadata": {},
   "outputs": [],
   "source": [
    "def get_all_local_data():\n",
    "    local_ciselnikDetail = itmsDB.get_collection(ciselnikyDetail_col_name).aggregate([\n",
    "        {\n",
    "            '$addFields': {\n",
    "                'origin': '$$CURRENT', \n",
    "                'dict_key': {\n",
    "                    '$concat': [\n",
    "                        {\n",
    "                            '$toString': '$ciselnikKod'\n",
    "                        }, '_', {\n",
    "                            '$toString': '$id'\n",
    "                        }\n",
    "                    ]\n",
    "                }\n",
    "            }\n",
    "        }, {\n",
    "            '$project': {\n",
    "                'origin._id': 0\n",
    "            }\n",
    "        }, {\n",
    "            '$project': {\n",
    "                '_id': 1, \n",
    "                'origin': 1, \n",
    "                'dict_key': 1\n",
    "            }\n",
    "        }\n",
    "    ])\n",
    "    return {item['dict_key']:item for item in local_ciselnikDetail}"
   ]
  },
  {
   "cell_type": "code",
   "execution_count": null,
   "metadata": {},
   "outputs": [],
   "source": [
    "nezrovnaost_url_template = 'https://opendata.itms2014.sk/v2/nezrovnalost?minId={minId}'"
   ]
  },
  {
   "cell_type": "code",
   "execution_count": null,
   "metadata": {},
   "outputs": [],
   "source": []
  },
  {
   "cell_type": "code",
   "execution_count": null,
   "metadata": {},
   "outputs": [],
   "source": [
    "all_ids = itmsDB.get_collection(nezrovnalost_col_name).distinct(\"id\")"
   ]
  }
 ],
 "metadata": {
  "kernelspec": {
   "display_name": ".venv",
   "language": "python",
   "name": "python3"
  },
  "language_info": {
   "codemirror_mode": {
    "name": "ipython",
    "version": 3
   },
   "file_extension": ".py",
   "mimetype": "text/x-python",
   "name": "python",
   "nbconvert_exporter": "python",
   "pygments_lexer": "ipython3",
   "version": "3.12.1"
  }
 },
 "nbformat": 4,
 "nbformat_minor": 2
}
